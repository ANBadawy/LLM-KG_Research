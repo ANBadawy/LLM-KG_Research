{
 "cells": [
  {
   "cell_type": "markdown",
   "metadata": {},
   "source": [
    "## Generalized function extracting Table of content from a TextBook"
   ]
  },
  {
   "cell_type": "markdown",
   "metadata": {},
   "source": [
    "## Problems:\n",
    "1. some table of content are images\n",
    "   - Use OCR\n",
    "2. some titles are different\n",
    "   - Use hugging face semantic similarity?\n",
    "3. How to know we are at the end of the table of content?\n",
    "   - Access the sections in a book? but how?\n",
    "4. I want it to extract the main nodes and lateral notes -> Dependency tree"
   ]
  },
  {
   "cell_type": "code",
   "execution_count": 22,
   "metadata": {},
   "outputs": [],
   "source": [
    "import PyPDF2"
   ]
  },
  {
   "cell_type": "code",
   "execution_count": 23,
   "metadata": {},
   "outputs": [],
   "source": [
    "def extraction(pdf_path):\n",
    "    with open(pdf_path, 'rb') as pdf_file:\n",
    "        pdf_reader = PyPDF2.PdfReader(pdf_file)\n",
    "        \n",
    "        # Initialize an empty string to store the extracted text\n",
    "        extracted_text = ''\n",
    "        number_of_pages = 30                       ##\n",
    "\n",
    "        # Loop through each page and extract the text\n",
    "        for page_num in range(number_of_pages):\n",
    "            page = pdf_reader.pages[page_num]\n",
    "            page_text = page.extract_text()\n",
    "            extracted_text+=page_text\n",
    "       \n",
    "    return extracted_text"
   ]
  },
  {
   "cell_type": "code",
   "execution_count": 24,
   "metadata": {},
   "outputs": [],
   "source": [
    "def find_start(all_extracted_text): \n",
    "    index = -1\n",
    "    words_to_find = [\"table of contents\", \"contents\", \"index\"]\n",
    "    for word in words_to_find:\n",
    "        start = all_extracted_text.lower().find(word)\n",
    "        if start != -1:\n",
    "            return start\n",
    "    \n",
    "    return -1"
   ]
  },
  {
   "cell_type": "code",
   "execution_count": 25,
   "metadata": {},
   "outputs": [],
   "source": [
    "def find_end(all_extracted_text): \n",
    "    index = -1\n",
    "    words_to_find = [\"chapter 1\"]\n",
    "    for word in words_to_find:\n",
    "        end = all_extracted_text.lower().find(word)\n",
    "        if end != -1:\n",
    "            return end\n",
    "    \n",
    "    return -1"
   ]
  },
  {
   "cell_type": "code",
   "execution_count": 26,
   "metadata": {},
   "outputs": [],
   "source": [
    "def roughly_table_of_content(all_extracted_text):\n",
    "\n",
    "    start = find_start(all_extracted_text) \n",
    "    end = find_end(all_extracted_text)\n",
    "    \n",
    "    if start !=-1 and end != -1:\n",
    "        modified_text = all_extracted_text[start:end]\n",
    "        return modified_text\n",
    "    else:\n",
    "        return all_extracted_text"
   ]
  },
  {
   "cell_type": "code",
   "execution_count": 27,
   "metadata": {},
   "outputs": [],
   "source": [
    "def build_dic(filtered_text):\n",
    "    lines = filtered_text.split('\\n')\n",
    "    print(lines) \n",
    "    return 0"
   ]
  },
  {
   "cell_type": "code",
   "execution_count": 28,
   "metadata": {},
   "outputs": [],
   "source": [
    "def pdf_to_text(pdf_path):\n",
    "    all_extracted_text = extraction(pdf_path)\n",
    "    filtered_text = roughly_table_of_content(all_extracted_text)\n",
    "   \n",
    "    return filtered_text\n"
   ]
  },
  {
   "cell_type": "code",
   "execution_count": 29,
   "metadata": {},
   "outputs": [
    {
     "name": "stdout",
     "output_type": "stream",
     "text": [
      "TABLE OF CONTENTS\n",
      "1. Probability of Events . . . . . . . . . . . . . . . . . . . 1\n",
      "1.1. Introduction\n",
      "1.2. Counting Techniques\n",
      "1.3. Probability Measure\n",
      "1.4. Some Properties of the Probability Measure\n",
      "1.5. Review Exercises\n",
      "2. Conditional Probability and Bayes’ Theorem . . . . . . . 27\n",
      "2.1. Conditional Probability\n",
      "2.2. Bayes’ Theorem\n",
      "2.3. Review Exercises\n",
      "3. Random Variables and Distribution Functions . . . . . . . 45\n",
      "3.1. Introduction\n",
      "3.2. Distribution Functions of Discrete Variables\n",
      "3.3. Distribution Functions of Continuous Variables\n",
      "3.4. Percentile for Continuous Random Variables\n",
      "3.5. Review Exercises\n",
      "4. Moments of Random Variables and Chebychev Inequality . 73\n",
      "4.1. Moments of Random Variables\n",
      "4.2. Expected Value of Random Variables\n",
      "4.3. Variance of Random Variables\n",
      "4.4. Chebychev Inequality\n",
      "4.5. Moment Generating Functions\n",
      "4.6. Review Exercisesxiii\n",
      "5. Some Special Discrete Distributions . . . . . . . . . . . 107\n",
      "5.1. Bernoulli Distribution\n",
      "5.2. Binomial Distribution\n",
      "5.3. Geometric Distribution\n",
      "5.4. Negative Binomial Distribution\n",
      "5.5. Hypergeometric Distribution\n",
      "5.6. Poisson Distribution\n",
      "5.7. Riemann Zeta Distribution\n",
      "5.8. Review Exercises\n",
      "6. Some Special Continuous Distributions . . . . . . . . . 141\n",
      "6.1. Uniform Distribution\n",
      "6.2. Gamma Distribution\n",
      "6.3. Beta Distribution\n",
      "6.4. Normal Distribution\n",
      "6.5. Lognormal Distribution\n",
      "6.6. Inverse Gaussian Distribution\n",
      "6.7. Logistic Distribution\n",
      "6.8. Review Exercises\n",
      "7. Two Random Variables . . . . . . . . . . . . . . . . . 185\n",
      "7.1. Bivariate Discrete Random Variables\n",
      "7.2. Bivariate Continuous Random Variables\n",
      "7.3. Conditional Distributions\n",
      "7.4. Independence of Random Variables\n",
      "7.5. Review Exercises\n",
      "8. Product Moments of Bivariate Random Variables . . . . 213\n",
      "8.1. Covariance of Bivariate Random Variables\n",
      "8.2. Independence of Random Variables\n",
      "8.3. Variance of the Linear Combination of Random Variables\n",
      "8.4. Correlation and Independence\n",
      "8.5. Moment Generating Functions\n",
      "8.6. Review Exercisesxiv\n",
      "9. Conditional Expectations of Bivariate Random Variables 237\n",
      "9.1. Conditional Expected Values\n",
      "9.2. Conditional Variance\n",
      "9.3. Regression Curve and Scedastic Curves\n",
      "9.4. Review Exercises\n",
      "10. Functions of Random Variables and Their Distribution . 257\n",
      "10.1. Distribution Function Method\n",
      "10.2. Transformation Method for Univariate Case\n",
      "10.3. Transformation Method for Bivariate Case\n",
      "10.4. Convolution Method for Sums of Random Variables\n",
      "10.5. Moment Method for Sums of Random Variables\n",
      "10.6. Review Exercises\n",
      "11. Some Special Discrete Bivariate Distributions . . . . . 289\n",
      "11.1. Bivariate Bernoulli Distribution\n",
      "11.2. Bivariate Binomial Distribution\n",
      "11.3. Bivariate Geometric Distribution\n",
      "11.4. Bivariate Negative Binomial Distribution\n",
      "11.5. Bivariate Hypergeometric Distribution\n",
      "11.6. Bivariate Poisson Distribution\n",
      "11.7. Review Exercises\n",
      "12. Some Special Continuous Bivariate Distributions . . . . 317\n",
      "12.1. Bivariate Uniform Distribution\n",
      "12.2. Bivariate Cauchy Distribution\n",
      "12.3. Bivariate Gamma Distribution\n",
      "12.4. Bivariate Beta Distribution\n",
      "12.5. Bivariate Normal Distribution\n",
      "12.6. Bivariate Logistic Distribution\n",
      "12.7. Review Exercisesxv\n",
      "13. Sequences of Random Variables and Order Statistics . . 353\n",
      "13.1. Distribution of Sample Mean and Variance\n",
      "13.2. Laws of Large Numbers\n",
      "13.3. The Central Limit Theorem\n",
      "13.4. Order Statistics\n",
      "13.5. Sample Percentiles\n",
      "13.6. Review Exercises\n",
      "14. Sampling Distributions Associated with\n",
      "the Normal Population . . . . . . . . . . . . . . . . . 395\n",
      "14.1. Chi-square distribution\n",
      "14.2. Student’s t-distribution\n",
      "14.3. Snedecor’s F-distribution\n",
      "14.4. Review Exercises\n",
      "15. Some Techniques for Finding Point\n",
      "Estimators of Parameters . . . . . . . . . . . . . . . 413\n",
      "15.1. Moment Method\n",
      "15.2. Maximum Likelihood Method\n",
      "15.3. Bayesian Method\n",
      "15.3. Review Exercises\n",
      "16. Criteria for Evaluating the Goodness\n",
      "of Estimators . . . . . . . . . . . . . . . . . . . . . 455\n",
      "16.1. The Unbiased Estimator\n",
      "16.2. The Relatively E ﬃcient Estimator\n",
      "16.3. The Minimum Variance Unbiased Estimator\n",
      "16.4. Su ﬃcient Estimator\n",
      "16.5. Consistent Estimator\n",
      "16.6. Review Exercisesxvi\n",
      "17. Some Techniques for Finding Interval\n",
      "Estimators of Parameters . . . . . . . . . . . . . . . 497\n",
      "17.1. Interval Estimators and Conﬁdence Intervals for Parameters\n",
      "17.2. Pivotal Quantity Method\n",
      "17.3. Conﬁdence Interval for Population Mean\n",
      "17.4. Conﬁdence Interval for Population Variance\n",
      "17.5. Conﬁdence Interval for Parameter of some Distributions\n",
      "not belonging to the Location-Scale Family\n",
      "17.6. Approximate Conﬁdence Interval for Parameter with MLE\n",
      "17.7. The Statistical or General Method\n",
      "17.8. Criteria for Evaluating Conﬁdence Intervals\n",
      "17.9. Review Exercises\n",
      "18. Test of Statistical Hypotheses . . . . . . . . . . . . . 541\n",
      "18.1. Introduction\n",
      "18.2. A Method of Finding Tests\n",
      "18.3. Methods of Evaluating Tests\n",
      "18.4. Some Examples of Likelihood Ratio Tests\n",
      "18.5. Review Exercises\n",
      "19. Simple Linear Regression and Correlation Analysis . . 585\n",
      "19.1. Least Squared Method\n",
      "19.2. Normal Regression Analysis\n",
      "19.3. The Correlation Analysis\n",
      "19.4. Review Exercises\n",
      "20. Analysis of Variance . . . . . . . . . . . . . . . . . . 621\n",
      "20.1. One-way Analysis of Variance with Equal Sample Sizes\n",
      "20.2. One-way Analysis of Variance with Unequal Sample Sizes\n",
      "20.3. Pair wise Comparisons\n",
      "20.4. Tests for the Homogeneity of Variances\n",
      "20.5. Review Exercisesxvii\n",
      "21. Goodness of Fits Tests . . . . . . . . . . . . . . . . . 653\n",
      "21.1. Chi-Squared test\n",
      "21.2. Kolmogorov-Smirnov test\n",
      "21.3. Review Exercises\n",
      "References . . . . . . . . . . . . . . . . . . . . . . . . . 671\n",
      "Answers to Selected Review Exercises . . . . . . . . . . . 677Probability and Mathematical Statistics 1\n",
      "\n"
     ]
    }
   ],
   "source": [
    "print(pdf_to_text('book2.pdf'))"
   ]
  },
  {
   "cell_type": "code",
   "execution_count": null,
   "metadata": {},
   "outputs": [],
   "source": []
  },
  {
   "cell_type": "markdown",
   "metadata": {},
   "source": [
    "## Using OCR when we have a book that is an image "
   ]
  },
  {
   "cell_type": "code",
   "execution_count": 15,
   "metadata": {},
   "outputs": [],
   "source": [
    "from pdf2image.pdf2image import convert_from_path\n",
    "from pytesseract import image_to_string\n",
    "from PIL import Image"
   ]
  },
  {
   "cell_type": "code",
   "execution_count": 18,
   "metadata": {},
   "outputs": [],
   "source": [
    "def convert_pdf_to_img(pdf_file):\n",
    "    return convert_from_path(pdf_file)\n",
    "def convert_image_to_text(file):\n",
    "    text = image_to_string(file)\n",
    "    return text\n",
    "def get_text_from_any_pdf(pdf_file):\n",
    "    images = convert_pdf_to_img(pdf_file)\n",
    "    final_text = \"\"\n",
    "    for pd,img in enumerate(images):\n",
    "        final_text += convert_image_to_text(img)\n",
    "    return final_text"
   ]
  },
  {
   "cell_type": "code",
   "execution_count": 19,
   "metadata": {},
   "outputs": [
    {
     "ename": "PDFInfoNotInstalledError",
     "evalue": "Unable to get page count. Is poppler installed and in PATH?",
     "output_type": "error",
     "traceback": [
      "\u001b[1;31m---------------------------------------------------------------------------\u001b[0m",
      "\u001b[1;31mFileNotFoundError\u001b[0m                         Traceback (most recent call last)",
      "File \u001b[1;32md:\\python\\python38\\lib\\site-packages\\pdf2image\\pdf2image.py:568\u001b[0m, in \u001b[0;36mpdfinfo_from_path\u001b[1;34m(pdf_path, userpw, ownerpw, poppler_path, rawdates, timeout)\u001b[0m\n\u001b[0;32m    567\u001b[0m     env[\u001b[39m\"\u001b[39m\u001b[39mLD_LIBRARY_PATH\u001b[39m\u001b[39m\"\u001b[39m] \u001b[39m=\u001b[39m poppler_path \u001b[39m+\u001b[39m \u001b[39m\"\u001b[39m\u001b[39m:\u001b[39m\u001b[39m\"\u001b[39m \u001b[39m+\u001b[39m env\u001b[39m.\u001b[39mget(\u001b[39m\"\u001b[39m\u001b[39mLD_LIBRARY_PATH\u001b[39m\u001b[39m\"\u001b[39m, \u001b[39m\"\u001b[39m\u001b[39m\"\u001b[39m)\n\u001b[1;32m--> 568\u001b[0m proc \u001b[39m=\u001b[39m Popen(command, env\u001b[39m=\u001b[39;49menv, stdout\u001b[39m=\u001b[39;49mPIPE, stderr\u001b[39m=\u001b[39;49mPIPE)\n\u001b[0;32m    570\u001b[0m \u001b[39mtry\u001b[39;00m:\n",
      "File \u001b[1;32md:\\python\\python38\\lib\\subprocess.py:854\u001b[0m, in \u001b[0;36mPopen.__init__\u001b[1;34m(self, args, bufsize, executable, stdin, stdout, stderr, preexec_fn, close_fds, shell, cwd, env, universal_newlines, startupinfo, creationflags, restore_signals, start_new_session, pass_fds, encoding, errors, text)\u001b[0m\n\u001b[0;32m    851\u001b[0m             \u001b[39mself\u001b[39m\u001b[39m.\u001b[39mstderr \u001b[39m=\u001b[39m io\u001b[39m.\u001b[39mTextIOWrapper(\u001b[39mself\u001b[39m\u001b[39m.\u001b[39mstderr,\n\u001b[0;32m    852\u001b[0m                     encoding\u001b[39m=\u001b[39mencoding, errors\u001b[39m=\u001b[39merrors)\n\u001b[1;32m--> 854\u001b[0m     \u001b[39mself\u001b[39;49m\u001b[39m.\u001b[39;49m_execute_child(args, executable, preexec_fn, close_fds,\n\u001b[0;32m    855\u001b[0m                         pass_fds, cwd, env,\n\u001b[0;32m    856\u001b[0m                         startupinfo, creationflags, shell,\n\u001b[0;32m    857\u001b[0m                         p2cread, p2cwrite,\n\u001b[0;32m    858\u001b[0m                         c2pread, c2pwrite,\n\u001b[0;32m    859\u001b[0m                         errread, errwrite,\n\u001b[0;32m    860\u001b[0m                         restore_signals, start_new_session)\n\u001b[0;32m    861\u001b[0m \u001b[39mexcept\u001b[39;00m:\n\u001b[0;32m    862\u001b[0m     \u001b[39m# Cleanup if the child failed starting.\u001b[39;00m\n",
      "File \u001b[1;32md:\\python\\python38\\lib\\subprocess.py:1307\u001b[0m, in \u001b[0;36mPopen._execute_child\u001b[1;34m(self, args, executable, preexec_fn, close_fds, pass_fds, cwd, env, startupinfo, creationflags, shell, p2cread, p2cwrite, c2pread, c2pwrite, errread, errwrite, unused_restore_signals, unused_start_new_session)\u001b[0m\n\u001b[0;32m   1306\u001b[0m \u001b[39mtry\u001b[39;00m:\n\u001b[1;32m-> 1307\u001b[0m     hp, ht, pid, tid \u001b[39m=\u001b[39m _winapi\u001b[39m.\u001b[39;49mCreateProcess(executable, args,\n\u001b[0;32m   1308\u001b[0m                              \u001b[39m# no special security\u001b[39;49;00m\n\u001b[0;32m   1309\u001b[0m                              \u001b[39mNone\u001b[39;49;00m, \u001b[39mNone\u001b[39;49;00m,\n\u001b[0;32m   1310\u001b[0m                              \u001b[39mint\u001b[39;49m(\u001b[39mnot\u001b[39;49;00m close_fds),\n\u001b[0;32m   1311\u001b[0m                              creationflags,\n\u001b[0;32m   1312\u001b[0m                              env,\n\u001b[0;32m   1313\u001b[0m                              cwd,\n\u001b[0;32m   1314\u001b[0m                              startupinfo)\n\u001b[0;32m   1315\u001b[0m \u001b[39mfinally\u001b[39;00m:\n\u001b[0;32m   1316\u001b[0m     \u001b[39m# Child is launched. Close the parent's copy of those pipe\u001b[39;00m\n\u001b[0;32m   1317\u001b[0m     \u001b[39m# handles that only the child should have open.  You need\u001b[39;00m\n\u001b[1;32m   (...)\u001b[0m\n\u001b[0;32m   1320\u001b[0m     \u001b[39m# pipe will not close when the child process exits and the\u001b[39;00m\n\u001b[0;32m   1321\u001b[0m     \u001b[39m# ReadFile will hang.\u001b[39;00m\n",
      "\u001b[1;31mFileNotFoundError\u001b[0m: [WinError 2] The system cannot find the file specified",
      "\nDuring handling of the above exception, another exception occurred:\n",
      "\u001b[1;31mPDFInfoNotInstalledError\u001b[0m                  Traceback (most recent call last)",
      "\u001b[1;32mc:\\Users\\Mariam Barakat\\Desktop\\work\\CIS_LLM\\Week 4\\Table_content_scrapper.ipynb Cell 15\u001b[0m in \u001b[0;36m<cell line: 1>\u001b[1;34m()\u001b[0m\n\u001b[1;32m----> <a href='vscode-notebook-cell:/c%3A/Users/Mariam%20Barakat/Desktop/work/CIS_LLM/Week%204/Table_content_scrapper.ipynb#X34sZmlsZQ%3D%3D?line=0'>1</a>\u001b[0m \u001b[39mprint\u001b[39m(get_text_from_any_pdf(\u001b[39m'\u001b[39;49m\u001b[39mbook1.pdf\u001b[39;49m\u001b[39m'\u001b[39;49m))\n",
      "\u001b[1;32mc:\\Users\\Mariam Barakat\\Desktop\\work\\CIS_LLM\\Week 4\\Table_content_scrapper.ipynb Cell 15\u001b[0m in \u001b[0;36mget_text_from_any_pdf\u001b[1;34m(pdf_file)\u001b[0m\n\u001b[0;32m      <a href='vscode-notebook-cell:/c%3A/Users/Mariam%20Barakat/Desktop/work/CIS_LLM/Week%204/Table_content_scrapper.ipynb#X34sZmlsZQ%3D%3D?line=5'>6</a>\u001b[0m \u001b[39mdef\u001b[39;00m \u001b[39mget_text_from_any_pdf\u001b[39m(pdf_file):\n\u001b[1;32m----> <a href='vscode-notebook-cell:/c%3A/Users/Mariam%20Barakat/Desktop/work/CIS_LLM/Week%204/Table_content_scrapper.ipynb#X34sZmlsZQ%3D%3D?line=6'>7</a>\u001b[0m     images \u001b[39m=\u001b[39m convert_pdf_to_img(pdf_file)\n\u001b[0;32m      <a href='vscode-notebook-cell:/c%3A/Users/Mariam%20Barakat/Desktop/work/CIS_LLM/Week%204/Table_content_scrapper.ipynb#X34sZmlsZQ%3D%3D?line=7'>8</a>\u001b[0m     final_text \u001b[39m=\u001b[39m \u001b[39m\"\u001b[39m\u001b[39m\"\u001b[39m\n\u001b[0;32m      <a href='vscode-notebook-cell:/c%3A/Users/Mariam%20Barakat/Desktop/work/CIS_LLM/Week%204/Table_content_scrapper.ipynb#X34sZmlsZQ%3D%3D?line=8'>9</a>\u001b[0m     \u001b[39mfor\u001b[39;00m pd,img \u001b[39min\u001b[39;00m \u001b[39menumerate\u001b[39m(images):\n",
      "\u001b[1;32mc:\\Users\\Mariam Barakat\\Desktop\\work\\CIS_LLM\\Week 4\\Table_content_scrapper.ipynb Cell 15\u001b[0m in \u001b[0;36mconvert_pdf_to_img\u001b[1;34m(pdf_file)\u001b[0m\n\u001b[0;32m      <a href='vscode-notebook-cell:/c%3A/Users/Mariam%20Barakat/Desktop/work/CIS_LLM/Week%204/Table_content_scrapper.ipynb#X34sZmlsZQ%3D%3D?line=0'>1</a>\u001b[0m \u001b[39mdef\u001b[39;00m \u001b[39mconvert_pdf_to_img\u001b[39m(pdf_file):\n\u001b[1;32m----> <a href='vscode-notebook-cell:/c%3A/Users/Mariam%20Barakat/Desktop/work/CIS_LLM/Week%204/Table_content_scrapper.ipynb#X34sZmlsZQ%3D%3D?line=1'>2</a>\u001b[0m     \u001b[39mreturn\u001b[39;00m convert_from_path(pdf_file)\n",
      "File \u001b[1;32md:\\python\\python38\\lib\\site-packages\\pdf2image\\pdf2image.py:127\u001b[0m, in \u001b[0;36mconvert_from_path\u001b[1;34m(pdf_path, dpi, output_folder, first_page, last_page, fmt, jpegopt, thread_count, userpw, ownerpw, use_cropbox, strict, transparent, single_file, output_file, poppler_path, grayscale, size, paths_only, use_pdftocairo, timeout, hide_annotations)\u001b[0m\n\u001b[0;32m    124\u001b[0m \u001b[39mif\u001b[39;00m \u001b[39misinstance\u001b[39m(poppler_path, PurePath):\n\u001b[0;32m    125\u001b[0m     poppler_path \u001b[39m=\u001b[39m poppler_path\u001b[39m.\u001b[39mas_posix()\n\u001b[1;32m--> 127\u001b[0m page_count \u001b[39m=\u001b[39m pdfinfo_from_path(\n\u001b[0;32m    128\u001b[0m     pdf_path, userpw, ownerpw, poppler_path\u001b[39m=\u001b[39;49mpoppler_path\n\u001b[0;32m    129\u001b[0m )[\u001b[39m\"\u001b[39m\u001b[39mPages\u001b[39m\u001b[39m\"\u001b[39m]\n\u001b[0;32m    131\u001b[0m \u001b[39m# We start by getting the output format, the buffer processing function and if we need pdftocairo\u001b[39;00m\n\u001b[0;32m    132\u001b[0m parsed_fmt, final_extension, parse_buffer_func, use_pdfcairo_format \u001b[39m=\u001b[39m _parse_format(\n\u001b[0;32m    133\u001b[0m     fmt, grayscale\n\u001b[0;32m    134\u001b[0m )\n",
      "File \u001b[1;32md:\\python\\python38\\lib\\site-packages\\pdf2image\\pdf2image.py:594\u001b[0m, in \u001b[0;36mpdfinfo_from_path\u001b[1;34m(pdf_path, userpw, ownerpw, poppler_path, rawdates, timeout)\u001b[0m\n\u001b[0;32m    591\u001b[0m     \u001b[39mreturn\u001b[39;00m d\n\u001b[0;32m    593\u001b[0m \u001b[39mexcept\u001b[39;00m \u001b[39mOSError\u001b[39;00m:\n\u001b[1;32m--> 594\u001b[0m     \u001b[39mraise\u001b[39;00m PDFInfoNotInstalledError(\n\u001b[0;32m    595\u001b[0m         \u001b[39m\"\u001b[39m\u001b[39mUnable to get page count. Is poppler installed and in PATH?\u001b[39m\u001b[39m\"\u001b[39m\n\u001b[0;32m    596\u001b[0m     )\n\u001b[0;32m    597\u001b[0m \u001b[39mexcept\u001b[39;00m \u001b[39mValueError\u001b[39;00m:\n\u001b[0;32m    598\u001b[0m     \u001b[39mraise\u001b[39;00m PDFPageCountError(\n\u001b[0;32m    599\u001b[0m         \u001b[39mf\u001b[39m\u001b[39m\"\u001b[39m\u001b[39mUnable to get page count.\u001b[39m\u001b[39m\\n\u001b[39;00m\u001b[39m{\u001b[39;00merr\u001b[39m.\u001b[39mdecode(\u001b[39m'\u001b[39m\u001b[39mutf8\u001b[39m\u001b[39m'\u001b[39m,\u001b[39m \u001b[39m\u001b[39m'\u001b[39m\u001b[39mignore\u001b[39m\u001b[39m'\u001b[39m)\u001b[39m}\u001b[39;00m\u001b[39m\"\u001b[39m\n\u001b[0;32m    600\u001b[0m     )\n",
      "\u001b[1;31mPDFInfoNotInstalledError\u001b[0m: Unable to get page count. Is poppler installed and in PATH?"
     ]
    }
   ],
   "source": [
    "print(get_text_from_any_pdf('book1.pdf'))"
   ]
  },
  {
   "cell_type": "code",
   "execution_count": null,
   "metadata": {},
   "outputs": [],
   "source": []
  }
 ],
 "metadata": {
  "kernelspec": {
   "display_name": "Python 3",
   "language": "python",
   "name": "python3"
  },
  "language_info": {
   "codemirror_mode": {
    "name": "ipython",
    "version": 3
   },
   "file_extension": ".py",
   "mimetype": "text/x-python",
   "name": "python",
   "nbconvert_exporter": "python",
   "pygments_lexer": "ipython3",
   "version": "3.8.7"
  },
  "orig_nbformat": 4
 },
 "nbformat": 4,
 "nbformat_minor": 2
}
