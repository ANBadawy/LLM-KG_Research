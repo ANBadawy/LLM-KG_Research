{
 "cells": [
  {
   "cell_type": "code",
   "execution_count": 1,
   "metadata": {},
   "outputs": [],
   "source": [
    "import re\n",
    "\n",
    "import re\n",
    "\n",
    "def remove_non_alphabets_at_end_of_lines(text):\n",
    "    # Split the input text into lines\n",
    "    lines = text.split('\\n')\n",
    "    \n",
    "    # Process each line separately\n",
    "    cleaned_lines = []\n",
    "    for line in lines:\n",
    "        # Check if the line contains curly braces\n",
    "        if \"{\" in line or \"}\" in line:\n",
    "            cleaned_lines.append(line)\n",
    "        else:\n",
    "            # Use regular expression to match and remove non-alphabet characters at the end of the line\n",
    "            cleaned_line = re.sub(r'[^a-zA-Z]*$', '', line)\n",
    "            cleaned_lines.append(cleaned_line)\n",
    "    \n",
    "    # Join the cleaned lines back into a single text\n",
    "    cleaned_text = '\\n'.join(cleaned_lines)\n",
    "    \n",
    "    return cleaned_text\n",
    "\n",
    "\n"
   ]
  },
  {
   "cell_type": "code",
   "execution_count": 4,
   "metadata": {},
   "outputs": [],
   "source": [
    "# Read input text from a file\n",
    "input_file_path = 'book_corpus.txt'\n",
    "output_file_path = 'book_corpus_output.txt'\n",
    "\n",
    "with open(input_file_path, 'r', encoding='utf-8') as file:\n",
    "    input_text = file.read()\n",
    "\n",
    "# Apply the function to the input text\n",
    "cleaned_text = remove_non_alphabets_at_end_of_lines(input_text)\n",
    "\n",
    "# Write the cleaned text to an output file\n",
    "with open(output_file_path, 'w',encoding='utf-8') as file:\n",
    "    file.write(cleaned_text)"
   ]
  },
  {
   "cell_type": "code",
   "execution_count": null,
   "metadata": {},
   "outputs": [],
   "source": []
  }
 ],
 "metadata": {
  "kernelspec": {
   "display_name": "Python 3",
   "language": "python",
   "name": "python3"
  },
  "language_info": {
   "codemirror_mode": {
    "name": "ipython",
    "version": 3
   },
   "file_extension": ".py",
   "mimetype": "text/x-python",
   "name": "python",
   "nbconvert_exporter": "python",
   "pygments_lexer": "ipython3",
   "version": "3.8.7"
  },
  "orig_nbformat": 4
 },
 "nbformat": 4,
 "nbformat_minor": 2
}
