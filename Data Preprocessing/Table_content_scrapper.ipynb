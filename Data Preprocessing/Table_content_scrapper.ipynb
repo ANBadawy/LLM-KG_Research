{
 "cells": [
  {
   "cell_type": "markdown",
   "metadata": {},
   "source": [
    "## Generalized function extracting Table of content from a TextBook"
   ]
  },
  {
   "cell_type": "markdown",
   "metadata": {},
   "source": [
    "## Problems:\n",
    "1. some table of content are images\n",
    "   - Use OCR\n",
    "2. some titles are different\n",
    "   - Use hugging face semantic similarity?\n",
    "3. How to know we are at the end of the table of content?\n",
    "   - Access the sections in a book? but how?\n",
    "4. I want it to extract the main nodes and lateral notes -> Dependency tree"
   ]
  },
  {
   "cell_type": "code",
   "execution_count": null,
   "metadata": {
    "vscode": {
     "languageId": "polyglot-notebook"
    }
   },
   "outputs": [],
   "source": [
    "import PyPDF2\n",
    "import sys\n",
    "import os\n",
    "import re\n"
   ]
  },
  {
   "cell_type": "code",
   "execution_count": null,
   "metadata": {
    "vscode": {
     "languageId": "polyglot-notebook"
    }
   },
   "outputs": [],
   "source": [
    "def extraction(pdf_path):\n",
    "    with open(pdf_path, 'rb') as pdf_file:\n",
    "        pdf_reader = PyPDF2.PdfReader(pdf_file)\n",
    "        \n",
    "        # Initialize an empty string to store the extracted text\n",
    "        extracted_text = ''\n",
    "        number_of_pages = 30                       ##\n",
    "\n",
    "        # Loop through each page and extract the text\n",
    "        for page_num in range(number_of_pages):\n",
    "            page = pdf_reader.pages[page_num]\n",
    "            page_text = page.extract_text()\n",
    "            extracted_text+=page_text\n",
    "       \n",
    "    return extracted_text\n"
   ]
  },
  {
   "cell_type": "code",
   "execution_count": null,
   "metadata": {
    "vscode": {
     "languageId": "polyglot-notebook"
    }
   },
   "outputs": [],
   "source": [
    "def find_start(all_extracted_text): \n",
    "    index = -1\n",
    "    words_to_find = [\"table of contents\", \"contents\", \"index\"]\n",
    "    for word in words_to_find:\n",
    "        start = all_extracted_text.lower().find(word)\n",
    "        if start != -1:\n",
    "            return start\n",
    "    \n",
    "    return -1"
   ]
  },
  {
   "cell_type": "code",
   "execution_count": null,
   "metadata": {
    "vscode": {
     "languageId": "polyglot-notebook"
    }
   },
   "outputs": [],
   "source": [
    "def find_end(all_extracted_text): \n",
    "    index = -1\n",
    "    words_to_find = [\"chapter 1\"]\n",
    "    for word in words_to_find:\n",
    "        end = all_extracted_text.lower().find(word)\n",
    "        if end != -1:\n",
    "            return end\n",
    "    \n",
    "    return -1"
   ]
  },
  {
   "cell_type": "code",
   "execution_count": null,
   "metadata": {
    "vscode": {
     "languageId": "polyglot-notebook"
    }
   },
   "outputs": [],
   "source": [
    "def roughly_table_of_content(all_extracted_text):\n",
    "\n",
    "    start = find_start(all_extracted_text) \n",
    "    end = find_end(all_extracted_text)\n",
    "    \n",
    "    if start !=-1 and end != -1:\n",
    "        modified_text = all_extracted_text[start:end]\n",
    "        return modified_text\n",
    "    else:\n",
    "        return all_extracted_text"
   ]
  },
  {
   "cell_type": "code",
   "execution_count": null,
   "metadata": {
    "vscode": {
     "languageId": "polyglot-notebook"
    }
   },
   "outputs": [],
   "source": [
    "def build_dic(filtered_text):\n",
    "    lines = filtered_text.split('\\n')\n",
    "    print(lines) \n",
    "    return 0"
   ]
  },
  {
   "cell_type": "code",
   "execution_count": null,
   "metadata": {
    "vscode": {
     "languageId": "polyglot-notebook"
    }
   },
   "outputs": [],
   "source": [
    "def pdf_to_text(pdf_path):\n",
    "    all_extracted_text = extraction(pdf_path)\n",
    "    filtered_text = roughly_table_of_content(all_extracted_text)\n",
    "   \n",
    "    return filtered_text\n"
   ]
  },
  {
   "cell_type": "code",
   "execution_count": null,
   "metadata": {
    "vscode": {
     "languageId": "polyglot-notebook"
    }
   },
   "outputs": [],
   "source": [
    "print(pdf_to_text('../book2.pdf'))"
   ]
  },
  {
   "cell_type": "code",
   "execution_count": null,
   "metadata": {
    "vscode": {
     "languageId": "polyglot-notebook"
    }
   },
   "outputs": [],
   "source": []
  },
  {
   "cell_type": "markdown",
   "metadata": {},
   "source": [
    "## Using OCR when we have a book that is an image "
   ]
  },
  {
   "cell_type": "code",
   "execution_count": null,
   "metadata": {
    "vscode": {
     "languageId": "polyglot-notebook"
    }
   },
   "outputs": [],
   "source": [
    "from pdf2image.pdf2image import convert_from_path\n",
    "from pytesseract import image_to_string\n",
    "from PIL import Image"
   ]
  },
  {
   "cell_type": "code",
   "execution_count": null,
   "metadata": {
    "vscode": {
     "languageId": "polyglot-notebook"
    }
   },
   "outputs": [],
   "source": [
    "def convert_pdf_to_img(pdf_file):\n",
    "    return convert_from_path(pdf_file,poppler_path=r\"./poppler/poppler-23.08.0/Library/bin\")\n",
    "def convert_image_to_text(file):\n",
    "    text = image_to_string(file)\n",
    "    return text\n",
    "def get_text_from_any_pdf(pdf_file):\n",
    "    images = convert_pdf_to_img(pdf_file)\n",
    "    final_text = \"\"\n",
    "    for pd,img in enumerate(images):\n",
    "        out = convert_image_to_text(img)\n",
    "        final_text += out\n",
    "    return final_text"
   ]
  },
  {
   "cell_type": "code",
   "execution_count": null,
   "metadata": {
    "vscode": {
     "languageId": "polyglot-notebook"
    }
   },
   "outputs": [],
   "source": [
    "print(get_text_from_any_pdf('../book1.pdf'))"
   ]
  },
  {
   "cell_type": "code",
   "execution_count": null,
   "metadata": {
    "vscode": {
     "languageId": "polyglot-notebook"
    }
   },
   "outputs": [],
   "source": []
  }
 ],
 "metadata": {
  "kernelspec": {
   "display_name": "Python 3",
   "language": "python",
   "name": "python3"
  },
  "language_info": {
   "codemirror_mode": {
    "name": "ipython",
    "version": 3
   },
   "file_extension": ".py",
   "mimetype": "text/x-python",
   "name": "python",
   "nbconvert_exporter": "python",
   "pygments_lexer": "ipython3",
   "version": "3.9.13"
  },
  "orig_nbformat": 4
 },
 "nbformat": 4,
 "nbformat_minor": 2
}
